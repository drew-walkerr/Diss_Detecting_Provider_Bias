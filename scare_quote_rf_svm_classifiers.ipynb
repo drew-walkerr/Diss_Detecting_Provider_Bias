{
  "nbformat": 4,
  "nbformat_minor": 0,
  "metadata": {
    "colab": {
      "provenance": [],
      "authorship_tag": "ABX9TyMVdolf22zKn3UNPOx4yC1y",
      "include_colab_link": true
    },
    "kernelspec": {
      "name": "python3",
      "display_name": "Python 3"
    },
    "language_info": {
      "name": "python"
    }
  },
  "cells": [
    {
      "cell_type": "markdown",
      "metadata": {
        "id": "view-in-github",
        "colab_type": "text"
      },
      "source": [
        "<a href=\"https://colab.research.google.com/github/drew-walkerr/Diss_Detecting_Provider_Bias/blob/main/scare_quote_rf_svm_classifiers.ipynb\" target=\"_parent\"><img src=\"https://colab.research.google.com/assets/colab-badge.svg\" alt=\"Open In Colab\"/></a>"
      ]
    },
    {
      "cell_type": "code",
      "execution_count": 1,
      "metadata": {
        "colab": {
          "base_uri": "https://localhost:8080/"
        },
        "id": "iKLItT_m2ady",
        "outputId": "0f5a5a40-3a26-4e24-bffe-5baf105d6a21"
      },
      "outputs": [
        {
          "output_type": "stream",
          "name": "stderr",
          "text": [
            "[nltk_data] Downloading package punkt to /root/nltk_data...\n",
            "[nltk_data]   Unzipping tokenizers/punkt.zip.\n",
            "[nltk_data] Downloading package stopwords to /root/nltk_data...\n",
            "[nltk_data]   Unzipping corpora/stopwords.zip.\n"
          ]
        },
        {
          "output_type": "execute_result",
          "data": {
            "text/plain": [
              "<torch._C.Generator at 0x78ccb5f062b0>"
            ]
          },
          "metadata": {},
          "execution_count": 1
        }
      ],
      "source": [
        "# http://rasbt.github.io/mlxtend/user_guide/classifier/EnsembleVoteClassifier/\n",
        "# This is the general format I'm going to use for the BOW classifier for the detecting bias project.\n",
        "import pandas as pd\n",
        "import numpy\n",
        "from sklearn import model_selection\n",
        "from sklearn.model_selection import train_test_split\n",
        "from sklearn.model_selection import StratifiedKFold\n",
        "from sklearn.metrics import classification_report\n",
        "from sklearn import feature_selection\n",
        "from sklearn.feature_extraction.text import TfidfTransformer\n",
        "from sklearn.feature_extraction.text import CountVectorizer\n",
        "\n",
        "from sklearn.pipeline import Pipeline\n",
        "from sklearn.linear_model import LogisticRegression\n",
        "from sklearn.naive_bayes import GaussianNB\n",
        "from sklearn.ensemble import RandomForestClassifier\n",
        "import seaborn as sn\n",
        "import os\n",
        "import matplotlib.pyplot as plt\n",
        "import numpy as np\n",
        "from sklearn.naive_bayes import MultinomialNB\n",
        "# Import modules for evaluation purposes\n",
        "# Import libraries for predcton\n",
        "from sklearn import metrics\n",
        "from sklearn.metrics import confusion_matrix, accuracy_score, roc_auc_score, roc_curve, auc, f1_score\n",
        "import nltk\n",
        "\n",
        "nltk.download('punkt')\n",
        "nltk.download('stopwords')\n",
        "\n",
        "\n",
        "from sklearn.preprocessing import StandardScaler\n",
        "from sklearn.svm import SVC\n",
        "from sklearn.metrics import classification_report, confusion_matrix\n",
        "from sklearn.metrics import precision_score, recall_score, f1_score, accuracy_score\n",
        "\n",
        "\n",
        "\n",
        "\n",
        "import torch\n",
        "torch.cuda.empty_cache()\n",
        "import seaborn as sns\n",
        "import json\n",
        "from tqdm import tqdm\n",
        "from torch.utils.data import Dataset, DataLoader\n",
        "import logging\n",
        "logging.basicConfig(level=logging.ERROR)\n",
        "from google.colab import output\n",
        "import seaborn as sn\n",
        "import pandas as pd\n",
        "import matplotlib.pyplot as plt\n",
        "\n",
        "#GPU usage setup\n",
        "from torch import cuda\n",
        "device = 'cuda' if cuda.is_available() else 'cpu'\n",
        "import random\n",
        "random.seed(1)\n",
        "np.random.seed(1)\n",
        "torch.cuda.manual_seed(1)\n",
        "torch.manual_seed(1)\n",
        "\n",
        "\n"
      ]
    },
    {
      "cell_type": "code",
      "source": [
        "# mount drive to access data\n",
        "from google.colab import drive\n",
        "drive.mount('/content/drive/')"
      ],
      "metadata": {
        "colab": {
          "base_uri": "https://localhost:8080/"
        },
        "id": "Yevoamnq44vX",
        "outputId": "49df06b0-2c31-4aa7-f855-f6b858bece87"
      },
      "execution_count": 2,
      "outputs": [
        {
          "output_type": "stream",
          "name": "stdout",
          "text": [
            "Mounted at /content/drive/\n"
          ]
        }
      ]
    },
    {
      "cell_type": "code",
      "source": [
        "\n",
        "%cd /content/drive/MyDrive/Diss_Detecting_Provider_Bias/Aim 1/Scare Quotes/3_Classification\n",
        "\n",
        "%ls"
      ],
      "metadata": {
        "colab": {
          "base_uri": "https://localhost:8080/"
        },
        "id": "LOmwkWLN5OxK",
        "outputId": "5991adbf-c262-405c-d082-cb5338ec2917"
      },
      "execution_count": 4,
      "outputs": [
        {
          "output_type": "stream",
          "name": "stdout",
          "text": [
            "/content/drive/MyDrive/Diss_Detecting_Provider_Bias/Aim 1/Scare Quotes/3_Classification\n",
            "annotation_Drew_sample_scare_quotes.csv  predictions.csv\n",
            "drew_gold_standard_scare_quote_500.csv   scare_quote_classification.ipynb\n",
            "gold_standard_scare_quotes_100.csv       scare_quote_rf_svm_classifiers.ipynb\n",
            "gold_standard_scare_quotes_500.csv       scare_quotes_accuracy.gsheet\n"
          ]
        }
      ]
    },
    {
      "cell_type": "code",
      "source": [
        "# Read the Annie Sample csv file\n",
        "df1 = pd.read_csv(\"gold_standard_scare_quotes_500.csv\") #Annie Sample\n",
        "\n",
        "# Read the Drew Sample csv file\n",
        "df2 = pd.read_csv(\"drew_gold_standard_scare_quote_500.csv\") #Drew Sample\n",
        "# Bind the rows of the two dataframes\n",
        "df = pd.concat([df1, df2], ignore_index=True)\n",
        "df.info()\n"
      ],
      "metadata": {
        "colab": {
          "base_uri": "https://localhost:8080/"
        },
        "id": "4gAOw8Tk5SUZ",
        "outputId": "332d1703-a206-4e54-f6b3-f7393ec139af"
      },
      "execution_count": 5,
      "outputs": [
        {
          "output_type": "stream",
          "name": "stdout",
          "text": [
            "<class 'pandas.core.frame.DataFrame'>\n",
            "RangeIndex: 1003 entries, 0 to 1002\n",
            "Data columns (total 4 columns):\n",
            " #   Column       Non-Null Count  Dtype  \n",
            "---  ------       --------------  -----  \n",
            " 0   sentence_id  1003 non-null   int64  \n",
            " 1   sentence     995 non-null    object \n",
            " 2   quoted_text  994 non-null    object \n",
            " 3   scare_label  995 non-null    float64\n",
            "dtypes: float64(1), int64(1), object(2)\n",
            "memory usage: 31.5+ KB\n"
          ]
        }
      ]
    },
    {
      "cell_type": "code",
      "source": [
        "df['label'] = df['scare_label']\n",
        "df.drop(['sentence_id','scare_label'], axis=1)\n",
        "del df['sentence_id'], df['scare_label']\n",
        "# Drop rows with any NaN values\n",
        "df.dropna(inplace=True)\n",
        "df.head(3)\n",
        "df.info()\n"
      ],
      "metadata": {
        "colab": {
          "base_uri": "https://localhost:8080/"
        },
        "id": "FuAUEe_U5J16",
        "outputId": "db60ee4e-bce5-4e4d-8061-ca417863e324"
      },
      "execution_count": 6,
      "outputs": [
        {
          "output_type": "stream",
          "name": "stdout",
          "text": [
            "<class 'pandas.core.frame.DataFrame'>\n",
            "Int64Index: 994 entries, 0 to 1002\n",
            "Data columns (total 3 columns):\n",
            " #   Column       Non-Null Count  Dtype  \n",
            "---  ------       --------------  -----  \n",
            " 0   sentence     994 non-null    object \n",
            " 1   quoted_text  994 non-null    object \n",
            " 2   label        994 non-null    float64\n",
            "dtypes: float64(1), object(2)\n",
            "memory usage: 31.1+ KB\n"
          ]
        }
      ]
    },
    {
      "cell_type": "code",
      "source": [
        "cols = ['sentence', 'quoted_text']\n",
        "df['text'] = df[cols].apply(lambda row: '</s>'.join(row.values.astype(str)), axis=1)\n",
        "df.head(3)"
      ],
      "metadata": {
        "colab": {
          "base_uri": "https://localhost:8080/",
          "height": 143
        },
        "id": "k5LiZ8115kM5",
        "outputId": "28ecb98a-e47b-4380-f918-8dd580fb19dd"
      },
      "execution_count": 7,
      "outputs": [
        {
          "output_type": "execute_result",
          "data": {
            "text/plain": [
              "                                            sentence quoted_text  label  \\\n",
              "0  Pt stated year as \"[**2159**]\" and when asked ...  [**2159**]    0.0   \n",
              "1  Speech evaluation recommended behavioral modif...       break    0.0   \n",
              "2  psychosocial: pt tearful several times, mouthi...     go home    0.0   \n",
              "\n",
              "                                                text  \n",
              "0  Pt stated year as \"[**2159**]\" and when asked ...  \n",
              "1  Speech evaluation recommended behavioral modif...  \n",
              "2  psychosocial: pt tearful several times, mouthi...  "
            ],
            "text/html": [
              "\n",
              "  <div id=\"df-d74d1495-eff3-476b-9610-79132a2234b9\" class=\"colab-df-container\">\n",
              "    <div>\n",
              "<style scoped>\n",
              "    .dataframe tbody tr th:only-of-type {\n",
              "        vertical-align: middle;\n",
              "    }\n",
              "\n",
              "    .dataframe tbody tr th {\n",
              "        vertical-align: top;\n",
              "    }\n",
              "\n",
              "    .dataframe thead th {\n",
              "        text-align: right;\n",
              "    }\n",
              "</style>\n",
              "<table border=\"1\" class=\"dataframe\">\n",
              "  <thead>\n",
              "    <tr style=\"text-align: right;\">\n",
              "      <th></th>\n",
              "      <th>sentence</th>\n",
              "      <th>quoted_text</th>\n",
              "      <th>label</th>\n",
              "      <th>text</th>\n",
              "    </tr>\n",
              "  </thead>\n",
              "  <tbody>\n",
              "    <tr>\n",
              "      <th>0</th>\n",
              "      <td>Pt stated year as \"[**2159**]\" and when asked ...</td>\n",
              "      <td>[**2159**]</td>\n",
              "      <td>0.0</td>\n",
              "      <td>Pt stated year as \"[**2159**]\" and when asked ...</td>\n",
              "    </tr>\n",
              "    <tr>\n",
              "      <th>1</th>\n",
              "      <td>Speech evaluation recommended behavioral modif...</td>\n",
              "      <td>break</td>\n",
              "      <td>0.0</td>\n",
              "      <td>Speech evaluation recommended behavioral modif...</td>\n",
              "    </tr>\n",
              "    <tr>\n",
              "      <th>2</th>\n",
              "      <td>psychosocial: pt tearful several times, mouthi...</td>\n",
              "      <td>go home</td>\n",
              "      <td>0.0</td>\n",
              "      <td>psychosocial: pt tearful several times, mouthi...</td>\n",
              "    </tr>\n",
              "  </tbody>\n",
              "</table>\n",
              "</div>\n",
              "    <div class=\"colab-df-buttons\">\n",
              "\n",
              "  <div class=\"colab-df-container\">\n",
              "    <button class=\"colab-df-convert\" onclick=\"convertToInteractive('df-d74d1495-eff3-476b-9610-79132a2234b9')\"\n",
              "            title=\"Convert this dataframe to an interactive table.\"\n",
              "            style=\"display:none;\">\n",
              "\n",
              "  <svg xmlns=\"http://www.w3.org/2000/svg\" height=\"24px\" viewBox=\"0 -960 960 960\">\n",
              "    <path d=\"M120-120v-720h720v720H120Zm60-500h600v-160H180v160Zm220 220h160v-160H400v160Zm0 220h160v-160H400v160ZM180-400h160v-160H180v160Zm440 0h160v-160H620v160ZM180-180h160v-160H180v160Zm440 0h160v-160H620v160Z\"/>\n",
              "  </svg>\n",
              "    </button>\n",
              "\n",
              "  <style>\n",
              "    .colab-df-container {\n",
              "      display:flex;\n",
              "      gap: 12px;\n",
              "    }\n",
              "\n",
              "    .colab-df-convert {\n",
              "      background-color: #E8F0FE;\n",
              "      border: none;\n",
              "      border-radius: 50%;\n",
              "      cursor: pointer;\n",
              "      display: none;\n",
              "      fill: #1967D2;\n",
              "      height: 32px;\n",
              "      padding: 0 0 0 0;\n",
              "      width: 32px;\n",
              "    }\n",
              "\n",
              "    .colab-df-convert:hover {\n",
              "      background-color: #E2EBFA;\n",
              "      box-shadow: 0px 1px 2px rgba(60, 64, 67, 0.3), 0px 1px 3px 1px rgba(60, 64, 67, 0.15);\n",
              "      fill: #174EA6;\n",
              "    }\n",
              "\n",
              "    .colab-df-buttons div {\n",
              "      margin-bottom: 4px;\n",
              "    }\n",
              "\n",
              "    [theme=dark] .colab-df-convert {\n",
              "      background-color: #3B4455;\n",
              "      fill: #D2E3FC;\n",
              "    }\n",
              "\n",
              "    [theme=dark] .colab-df-convert:hover {\n",
              "      background-color: #434B5C;\n",
              "      box-shadow: 0px 1px 3px 1px rgba(0, 0, 0, 0.15);\n",
              "      filter: drop-shadow(0px 1px 2px rgba(0, 0, 0, 0.3));\n",
              "      fill: #FFFFFF;\n",
              "    }\n",
              "  </style>\n",
              "\n",
              "    <script>\n",
              "      const buttonEl =\n",
              "        document.querySelector('#df-d74d1495-eff3-476b-9610-79132a2234b9 button.colab-df-convert');\n",
              "      buttonEl.style.display =\n",
              "        google.colab.kernel.accessAllowed ? 'block' : 'none';\n",
              "\n",
              "      async function convertToInteractive(key) {\n",
              "        const element = document.querySelector('#df-d74d1495-eff3-476b-9610-79132a2234b9');\n",
              "        const dataTable =\n",
              "          await google.colab.kernel.invokeFunction('convertToInteractive',\n",
              "                                                    [key], {});\n",
              "        if (!dataTable) return;\n",
              "\n",
              "        const docLinkHtml = 'Like what you see? Visit the ' +\n",
              "          '<a target=\"_blank\" href=https://colab.research.google.com/notebooks/data_table.ipynb>data table notebook</a>'\n",
              "          + ' to learn more about interactive tables.';\n",
              "        element.innerHTML = '';\n",
              "        dataTable['output_type'] = 'display_data';\n",
              "        await google.colab.output.renderOutput(dataTable, element);\n",
              "        const docLink = document.createElement('div');\n",
              "        docLink.innerHTML = docLinkHtml;\n",
              "        element.appendChild(docLink);\n",
              "      }\n",
              "    </script>\n",
              "  </div>\n",
              "\n",
              "\n",
              "<div id=\"df-4cc627fb-06dc-4ef9-a83d-2aa8405c186b\">\n",
              "  <button class=\"colab-df-quickchart\" onclick=\"quickchart('df-4cc627fb-06dc-4ef9-a83d-2aa8405c186b')\"\n",
              "            title=\"Suggest charts.\"\n",
              "            style=\"display:none;\">\n",
              "\n",
              "<svg xmlns=\"http://www.w3.org/2000/svg\" height=\"24px\"viewBox=\"0 0 24 24\"\n",
              "     width=\"24px\">\n",
              "    <g>\n",
              "        <path d=\"M19 3H5c-1.1 0-2 .9-2 2v14c0 1.1.9 2 2 2h14c1.1 0 2-.9 2-2V5c0-1.1-.9-2-2-2zM9 17H7v-7h2v7zm4 0h-2V7h2v10zm4 0h-2v-4h2v4z\"/>\n",
              "    </g>\n",
              "</svg>\n",
              "  </button>\n",
              "\n",
              "<style>\n",
              "  .colab-df-quickchart {\n",
              "      --bg-color: #E8F0FE;\n",
              "      --fill-color: #1967D2;\n",
              "      --hover-bg-color: #E2EBFA;\n",
              "      --hover-fill-color: #174EA6;\n",
              "      --disabled-fill-color: #AAA;\n",
              "      --disabled-bg-color: #DDD;\n",
              "  }\n",
              "\n",
              "  [theme=dark] .colab-df-quickchart {\n",
              "      --bg-color: #3B4455;\n",
              "      --fill-color: #D2E3FC;\n",
              "      --hover-bg-color: #434B5C;\n",
              "      --hover-fill-color: #FFFFFF;\n",
              "      --disabled-bg-color: #3B4455;\n",
              "      --disabled-fill-color: #666;\n",
              "  }\n",
              "\n",
              "  .colab-df-quickchart {\n",
              "    background-color: var(--bg-color);\n",
              "    border: none;\n",
              "    border-radius: 50%;\n",
              "    cursor: pointer;\n",
              "    display: none;\n",
              "    fill: var(--fill-color);\n",
              "    height: 32px;\n",
              "    padding: 0;\n",
              "    width: 32px;\n",
              "  }\n",
              "\n",
              "  .colab-df-quickchart:hover {\n",
              "    background-color: var(--hover-bg-color);\n",
              "    box-shadow: 0 1px 2px rgba(60, 64, 67, 0.3), 0 1px 3px 1px rgba(60, 64, 67, 0.15);\n",
              "    fill: var(--button-hover-fill-color);\n",
              "  }\n",
              "\n",
              "  .colab-df-quickchart-complete:disabled,\n",
              "  .colab-df-quickchart-complete:disabled:hover {\n",
              "    background-color: var(--disabled-bg-color);\n",
              "    fill: var(--disabled-fill-color);\n",
              "    box-shadow: none;\n",
              "  }\n",
              "\n",
              "  .colab-df-spinner {\n",
              "    border: 2px solid var(--fill-color);\n",
              "    border-color: transparent;\n",
              "    border-bottom-color: var(--fill-color);\n",
              "    animation:\n",
              "      spin 1s steps(1) infinite;\n",
              "  }\n",
              "\n",
              "  @keyframes spin {\n",
              "    0% {\n",
              "      border-color: transparent;\n",
              "      border-bottom-color: var(--fill-color);\n",
              "      border-left-color: var(--fill-color);\n",
              "    }\n",
              "    20% {\n",
              "      border-color: transparent;\n",
              "      border-left-color: var(--fill-color);\n",
              "      border-top-color: var(--fill-color);\n",
              "    }\n",
              "    30% {\n",
              "      border-color: transparent;\n",
              "      border-left-color: var(--fill-color);\n",
              "      border-top-color: var(--fill-color);\n",
              "      border-right-color: var(--fill-color);\n",
              "    }\n",
              "    40% {\n",
              "      border-color: transparent;\n",
              "      border-right-color: var(--fill-color);\n",
              "      border-top-color: var(--fill-color);\n",
              "    }\n",
              "    60% {\n",
              "      border-color: transparent;\n",
              "      border-right-color: var(--fill-color);\n",
              "    }\n",
              "    80% {\n",
              "      border-color: transparent;\n",
              "      border-right-color: var(--fill-color);\n",
              "      border-bottom-color: var(--fill-color);\n",
              "    }\n",
              "    90% {\n",
              "      border-color: transparent;\n",
              "      border-bottom-color: var(--fill-color);\n",
              "    }\n",
              "  }\n",
              "</style>\n",
              "\n",
              "  <script>\n",
              "    async function quickchart(key) {\n",
              "      const quickchartButtonEl =\n",
              "        document.querySelector('#' + key + ' button');\n",
              "      quickchartButtonEl.disabled = true;  // To prevent multiple clicks.\n",
              "      quickchartButtonEl.classList.add('colab-df-spinner');\n",
              "      try {\n",
              "        const charts = await google.colab.kernel.invokeFunction(\n",
              "            'suggestCharts', [key], {});\n",
              "      } catch (error) {\n",
              "        console.error('Error during call to suggestCharts:', error);\n",
              "      }\n",
              "      quickchartButtonEl.classList.remove('colab-df-spinner');\n",
              "      quickchartButtonEl.classList.add('colab-df-quickchart-complete');\n",
              "    }\n",
              "    (() => {\n",
              "      let quickchartButtonEl =\n",
              "        document.querySelector('#df-4cc627fb-06dc-4ef9-a83d-2aa8405c186b button');\n",
              "      quickchartButtonEl.style.display =\n",
              "        google.colab.kernel.accessAllowed ? 'block' : 'none';\n",
              "    })();\n",
              "  </script>\n",
              "</div>\n",
              "\n",
              "    </div>\n",
              "  </div>\n"
            ]
          },
          "metadata": {},
          "execution_count": 7
        }
      ]
    },
    {
      "cell_type": "code",
      "source": [
        "# X_train, X_test, y_train, y_test = train_test_split(gold_standard[\"Sentence\"], gold_standard[\"quote_use\"].values , test_size=0.20, random_state=0)\n",
        "# Use k-fold\n",
        "# Show the size of our datasets\n",
        "# print('X Train Size:',X_train.shape)\n",
        "# print('X Test Size:',X_test.shape)\n",
        "skf = StratifiedKFold(n_splits=5)\n",
        "X = df['text'].values\n",
        "y = df['label'].values\n",
        "\n",
        "metrics = []\n",
        "\n",
        "skf = StratifiedKFold(n_splits=5)\n",
        "for train_index, test_index in skf.split(X, y):\n",
        "    X_train, X_test = X[train_index], X[test_index]\n",
        "    y_train, y_test = y[train_index], y[test_index]\n",
        "\n",
        "    vect = CountVectorizer(ngram_range=(1, 2), max_features=10000, stop_words=\"english\")\n",
        "    X_train_dtm = vect.fit_transform(X_train)\n",
        "    X_test_dtm = vect.transform(X_test)\n",
        "    nb = MultinomialNB()\n",
        "    nb.fit(X_train_dtm, y_train)\n",
        "    y_pred_class = nb.predict(X_test_dtm)\n",
        "\n",
        "    metrics.append(accuracy_score(y_test, y_pred_class))\n",
        "    metrics2 = []\n",
        "# Create the confusion matrix\n",
        "def plot_confusion_matrix(y_test, y_pred):\n",
        "    ''' Plot the confusion matrix for the target labels and predictions '''\n",
        "    cm = confusion_matrix(y_test, y_pred)\n",
        "\n",
        "    # Create a dataframe with the confusion matrix values\n",
        "    df_cm = pd.DataFrame(cm, range(cm.shape[0]),\n",
        "                         range(cm.shape[1]))\n",
        "    # plt.figure(figsize = (10,7))\n",
        "    # Plot the confusion matrix\n",
        "    sn.set(font_scale=1.4)  # for label size\n",
        "    sn.heatmap(df_cm, annot=True, fmt='.0f', annot_kws={\"size\": 10})  # font size\n",
        "    plt.show()\n",
        "\n",
        "\n",
        "def plot_roc_curve(y_test, y_pred):\n",
        "    ''' Plot the ROC curve for the target labels and predictions'''\n",
        "    fpr, tpr, thresholds = roc_curve(y_test, y_pred, pos_label=1)\n",
        "    roc_auc = auc(fpr, tpr)\n",
        "\n",
        "    plt.title('Receiver Operating Characteristic')\n",
        "    plt.plot(fpr, tpr, 'b', label='AUC = %0.2f' % roc_auc)\n",
        "    plt.legend(loc='lower right')\n",
        "    plt.plot([0, 1], [0, 1], 'r--')\n",
        "    plt.xlim([0, 1])\n",
        "    plt.ylim([0, 1])\n",
        "    plt.ylabel('True Positive Rate')\n",
        "    plt.xlabel('False Positive Rate')\n",
        "    plt.show()\n",
        "\n",
        "\n",
        "# try multiple ways of calculating features\n",
        "# Create the numericalizer TFIDF for lowercase\n",
        "# tfidf = TfidfTransformer(encoding = \"utf-8\")\n",
        "# Numericalize the train dataset\n",
        "# tf_idf_train = tfidf.fit_transform(X_train.values.astype('U'))\n",
        "# Numericalize the test dataset\n",
        "# tf_idf_test = tfidf.transform(X_test.values.astype('U'))\n",
        "\n",
        "# pipe = Pipeline([('count', CountVectorizer(vocabulary=vocab)),('tfid', TfidfTransformer())]).fit(X_train)\n",
        "\n",
        "print(\"Multinomial Naive Bayes Results\")\n",
        "model = MultinomialNB()\n",
        "model.fit(X_train_dtm, y_train)\n",
        "y_pred_class2 = model.predict(X_test_dtm)\n",
        "print(classification_report(y_test,y_pred_class2))\n",
        "print(accuracy_score(y_test, y_pred_class2))\n",
        "plot_roc_curve(y_test, y_pred_class2)\n",
        "\n",
        "\n",
        "print(\"Random Forest Model Results\")\n",
        "\n",
        "rf_model = RandomForestClassifier(random_state=1)\n",
        "rf_model.fit(X_train_dtm, y_train)\n",
        "y_pred_class_rf = rf_model.predict(X_test_dtm)\n",
        "print(classification_report(y_test,y_pred_class_rf))\n",
        "print(accuracy_score(y_test, y_pred_class_rf))\n",
        "plot_confusion_matrix(y_test, y_pred_class_rf)\n",
        "plot_roc_curve(y_test, y_pred_class_rf)\n",
        "\n",
        "\n",
        "# BOW MODEL\n",
        "# 2. Next, for HW 8, write a script that trains a BOW model – could be any non-neural model you\n",
        "# like. Consider at least two variation of the features of your model—e.g. using counts v. TF-IDF\n",
        "# representations of your text—rather than two model types. Write up a paragraph describing the\n",
        "# choices you made in your overleaf doc. Consider the many available tutorials for this sort of thing\n",
        "# (e.g. here and the sklearn package). Finally, estimate the F1 score and plot a precision/recall\n",
        "# curve with only one model specification plotted. Consider using a tutorial (e.g. here). Include the\n",
        "# plot in your write up on overleaf and submit on Canvas.\n",
        "\n",
        "\n",
        "# clf1 = LogisticRegression(random_state=1)\n",
        "# clf2 = RandomForestClassifier(random_state=1)\n",
        "# clf3 = GaussianNB()\n",
        "\n",
        "# print('5-fold cross validation:\\n')\n",
        "\n",
        "# labels = ['Logistic Regression', 'Random Forest', 'Naive Bayes']\n",
        "\n",
        "# for clf, label in zip([clf1, clf2, clf3], labels):\n",
        "#    scores = model_selection.cross_val_score(clf, X_train_dtm, y_train,\n",
        "#                                             cv=5,\n",
        "#                                             scoring='accuracy')\n",
        "#    print(\"Accuracy: %0.2f (+/- %0.2f) [%s]\"\n",
        "#          % (scores.mean(), scores.std(), label))\n",
        "\n",
        "# Ensemble voting\n",
        "\n",
        "# from mlxtend.classifier import EnsembleVoteClassifier\n",
        "\n",
        "# eclf = EnsembleVoteClassifier(clfs=[clf1, clf2, clf3], weights=[1, 1, 1])\n",
        "\n",
        "# labels = ['Logistic Regression', 'Random Forest', 'Naive Bayes', 'Ensemble']\n",
        "# for clf, label in zip([clf1, clf2, clf3, eclf], labels):\n",
        "#    scores = model_selection.cross_val_score(clf, X_train_dtm, y_train),\n",
        "#    cv = 5,\n",
        "#    scoring = 'accuracy'\n",
        "#    print(\"Accuracy: %0.2f (+/- %0.2f) [%s]\", scores.mean(), scores.std(), label)"
      ],
      "metadata": {
        "colab": {
          "base_uri": "https://localhost:8080/",
          "height": 1000
        },
        "id": "hzlC-1t22_A0",
        "outputId": "9644eedc-9d90-484f-92ea-6a821a2caf34"
      },
      "execution_count": 8,
      "outputs": [
        {
          "output_type": "stream",
          "name": "stdout",
          "text": [
            "Multinomial Naive Bayes Results\n",
            "              precision    recall  f1-score   support\n",
            "\n",
            "         0.0       0.82      0.92      0.87       157\n",
            "         1.0       0.43      0.24      0.31        41\n",
            "\n",
            "    accuracy                           0.78       198\n",
            "   macro avg       0.63      0.58      0.59       198\n",
            "weighted avg       0.74      0.78      0.75       198\n",
            "\n",
            "0.7777777777777778\n"
          ]
        },
        {
          "output_type": "display_data",
          "data": {
            "text/plain": [
              "<Figure size 640x480 with 1 Axes>"
            ],
            "image/png": "[encoded data removed]"
          },
          "metadata": {}
        },
        {
          "output_type": "stream",
          "name": "stdout",
          "text": [
            "Random Forest Model Results\n",
            "              precision    recall  f1-score   support\n",
            "\n",
            "         0.0       0.79      0.99      0.88       157\n",
            "         1.0       0.00      0.00      0.00        41\n",
            "\n",
            "    accuracy                           0.78       198\n",
            "   macro avg       0.40      0.49      0.44       198\n",
            "weighted avg       0.63      0.78      0.70       198\n",
            "\n",
            "0.7828282828282829\n"
          ]
        },
        {
          "output_type": "display_data",
          "data": {
            "text/plain": [
              "<Figure size 640x480 with 2 Axes>"
            ],
            "image/png": "[encoded data removed]"
          },
          "metadata": {}
        },
        {
          "output_type": "display_data",
          "data": {
            "text/plain": [
              "<Figure size 640x480 with 1 Axes>"
            ],
            "image/png": "[encoded data removed]"
          },
          "metadata": {}
        }
      ]
    },
    {
      "cell_type": "code",
      "source": [
        "\"\""
      ],
      "metadata": {
        "id": "fv-ngBmj9W6n"
      },
      "execution_count": null,
      "outputs": []
    }
  ]
}